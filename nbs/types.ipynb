{
 "cells": [
  {
   "cell_type": "markdown",
   "metadata": {},
   "source": [
    "# Types\n",
    "\n",
    "> Supporting types"
   ]
  },
  {
   "cell_type": "code",
   "execution_count": null,
   "metadata": {},
   "outputs": [],
   "source": [
    "#| default_exp types\n",
    "#| export\n",
    "from dataclasses import dataclass, field\n",
    "from typing import Tuple, Union"
   ]
  },
  {
   "cell_type": "markdown",
   "metadata": {},
   "source": [
    "## Delimeters\n",
    "\n",
    "Strings like \"::\", \"?::\" and \"::?\" representing delimeters in notes"
   ]
  },
  {
   "cell_type": "code",
   "execution_count": null,
   "metadata": {},
   "outputs": [],
   "source": [
    "#| export\n",
    "@dataclass\n",
    "class Delimeter:\n",
    "    contents: str"
   ]
  },
  {
   "cell_type": "markdown",
   "metadata": {},
   "source": [
    "## AST\n",
    "\n",
    "These types represent the nodes in the AST returned by `html_parser`"
   ]
  },
  {
   "cell_type": "code",
   "execution_count": null,
   "metadata": {},
   "outputs": [],
   "source": [
    "#| export\n",
    "\n",
    "PathNode = Tuple[str, list[\"Node\"]]\n",
    "BasicNode = Tuple[str, Delimeter, str]\n",
    "StandaloneNode = Tuple[Delimeter, str]\n",
    "ClozeNode = str\n",
    "\n",
    "Node = Union[list[\"Node\"], PathNode, BasicNode, StandaloneNode, ClozeNode]"
   ]
  },
  {
   "cell_type": "markdown",
   "metadata": {},
   "source": [
    "## Cards\n",
    "\n",
    "These types represent the cards returned by `node_parser`"
   ]
  },
  {
   "cell_type": "code",
   "execution_count": null,
   "metadata": {},
   "outputs": [],
   "source": [
    "\n",
    "#| export\n",
    "\n",
    "@dataclass(order=True)\n",
    "class BasicCard:\n",
    "    question: str\n",
    "    answer: str\n",
    "    path: list[str]\n",
    "    reverse: bool = False\n",
    "\n",
    "\n",
    "@dataclass(order=True)\n",
    "class ClozeCard:\n",
    "    question: str\n",
    "    path: list[str]\n",
    "\n",
    "\n",
    "Card = Union[BasicCard, ClozeCard]\n",
    "\n",
    "Path = list[str]"
   ]
  }
 ],
 "metadata": {
  "kernelspec": {
   "display_name": "Python 3.10.6 64-bit",
   "language": "python",
   "name": "python3"
  }
 },
 "nbformat": 4,
 "nbformat_minor": 2
}

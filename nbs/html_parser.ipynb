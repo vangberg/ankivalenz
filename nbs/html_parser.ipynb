{
 "cells": [
  {
   "cell_type": "markdown",
   "id": "73b6f711",
   "metadata": {},
   "source": [
    "# HTML Parser\n",
    "\n",
    "> Parses HTML files into a structured format"
   ]
  },
  {
   "cell_type": "code",
   "execution_count": null,
   "id": "6c2dfd5d",
   "metadata": {},
   "outputs": [],
   "source": [
    "#| default_exp html_parser\n"
   ]
  }
 ],
 "metadata": {
  "kernelspec": {
   "display_name": "Python 3.10.6 64-bit",
   "language": "python",
   "name": "python3"
  }
 },
 "nbformat": 4,
 "nbformat_minor": 5
}
